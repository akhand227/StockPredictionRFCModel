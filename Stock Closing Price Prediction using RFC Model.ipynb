{
 "cells": [
  {
   "cell_type": "markdown",
   "id": "b014d5f1",
   "metadata": {},
   "source": [
    "# Predicting Tomorrow's Closing Price for Any Stock"
   ]
  },
  {
   "cell_type": "markdown",
   "id": "adfca474",
   "metadata": {},
   "source": [
    "## Aim: To predict tomorrow's stock price using historical data. "
   ]
  },
  {
   "cell_type": "markdown",
   "id": "a87b1bb2",
   "metadata": {},
   "source": [
    "### Importing Libraries "
   ]
  },
  {
   "cell_type": "code",
   "execution_count": 117,
   "id": "751825c5",
   "metadata": {},
   "outputs": [
    {
     "name": "stdout",
     "output_type": "stream",
     "text": [
      "Requirement already satisfied: yfinance in ./env/lib/python3.9/site-packages (0.2.23)\n",
      "Requirement already satisfied: pandas>=1.3.0 in ./env/lib/python3.9/site-packages (from yfinance) (1.4.2)\n",
      "Requirement already satisfied: lxml>=4.9.1 in ./env/lib/python3.9/site-packages (from yfinance) (4.9.2)\n",
      "Requirement already satisfied: numpy>=1.16.5 in ./env/lib/python3.9/site-packages (from yfinance) (1.22.3)\n",
      "Requirement already satisfied: pytz>=2022.5 in ./env/lib/python3.9/site-packages (from yfinance) (2023.3)\n",
      "Requirement already satisfied: html5lib>=1.1 in ./env/lib/python3.9/site-packages (from yfinance) (1.1)\n",
      "Requirement already satisfied: multitasking>=0.0.7 in ./env/lib/python3.9/site-packages (from yfinance) (0.0.11)\n",
      "Requirement already satisfied: appdirs>=1.4.4 in ./env/lib/python3.9/site-packages (from yfinance) (1.4.4)\n",
      "Requirement already satisfied: requests>=2.26 in ./env/lib/python3.9/site-packages (from yfinance) (2.28.1)\n",
      "Requirement already satisfied: beautifulsoup4>=4.11.1 in ./env/lib/python3.9/site-packages (from yfinance) (4.11.1)\n",
      "Requirement already satisfied: frozendict>=2.3.4 in ./env/lib/python3.9/site-packages (from yfinance) (2.3.8)\n",
      "Requirement already satisfied: soupsieve>1.2 in ./env/lib/python3.9/site-packages (from beautifulsoup4>=4.11.1->yfinance) (2.3.1)\n",
      "Requirement already satisfied: six>=1.9 in ./env/lib/python3.9/site-packages (from html5lib>=1.1->yfinance) (1.16.0)\n",
      "Requirement already satisfied: webencodings in ./env/lib/python3.9/site-packages (from html5lib>=1.1->yfinance) (0.5.1)\n",
      "Requirement already satisfied: python-dateutil>=2.8.1 in ./env/lib/python3.9/site-packages (from pandas>=1.3.0->yfinance) (2.8.2)\n",
      "Requirement already satisfied: urllib3<1.27,>=1.21.1 in ./env/lib/python3.9/site-packages (from requests>=2.26->yfinance) (1.26.12)\n",
      "Requirement already satisfied: certifi>=2017.4.17 in ./env/lib/python3.9/site-packages (from requests>=2.26->yfinance) (2022.5.18.1)\n",
      "Requirement already satisfied: charset-normalizer<3,>=2 in ./env/lib/python3.9/site-packages (from requests>=2.26->yfinance) (2.1.1)\n",
      "Requirement already satisfied: idna<4,>=2.5 in ./env/lib/python3.9/site-packages (from requests>=2.26->yfinance) (3.4)\n"
     ]
    }
   ],
   "source": [
    "!pip install yfinance\n",
    "import yfinance as yf # YahooFinance for stock data\n",
    "import pandas as pd #Pandas\n",
    "import numpy as np #Numpy\n",
    "from sklearn.metrics import precision_score #Precision score metrics to compare actual vs predicted values\n",
    "import matplotlib.pyplot as plt"
   ]
  },
  {
   "cell_type": "markdown",
   "id": "b4bc0aa9",
   "metadata": {},
   "source": [
    "## Data"
   ]
  },
  {
   "cell_type": "markdown",
   "id": "21a9afbd",
   "metadata": {},
   "source": [
    "### Insert Stock Symbol to access Stock Data"
   ]
  },
  {
   "cell_type": "code",
   "execution_count": 152,
   "id": "7b0285ab",
   "metadata": {},
   "outputs": [],
   "source": [
    "def search_stocks():\n",
    "    symbol=input(str('Please Enter the Stock Symbol')) #Asks user for their Stock Input\n",
    "    stock_symbol = yf.Ticker(symbol) #Requests the data\n",
    "    stock_symbol = stock_symbol.history(period=\"max\") #Pulls all the historical data of the stock\n",
    "    stock_symbol.to_csv(\"stock_symbol.csv\") #converting the retrieved data into csv\n",
    "    stock_data=pd.read_csv('stock_symbol.csv') \n",
    "    return stock_data #returning the data "
   ]
  },
  {
   "cell_type": "code",
   "execution_count": 203,
   "id": "f84d8da2",
   "metadata": {},
   "outputs": [
    {
     "name": "stdout",
     "output_type": "stream",
     "text": [
      "Please Enter the Stock SymbolAMZN\n"
     ]
    },
    {
     "data": {
      "text/html": [
       "<div><div id=25b86a77-e3a6-422a-8db1-2c55f8fbd66c style=\"display:none; background-color:#9D6CFF; color:white; width:200px; height:30px; padding-left:5px; border-radius:4px; flex-direction:row; justify-content:space-around; align-items:center;\" onmouseover=\"this.style.backgroundColor='#BA9BF8'\" onmouseout=\"this.style.backgroundColor='#9D6CFF'\" onclick=\"window.commands?.execute('create-mitosheet-from-dataframe-output');\">See Full Dataframe in Mito</div> <script> if (window.commands?.hasCommand('create-mitosheet-from-dataframe-output')) document.getElementById('25b86a77-e3a6-422a-8db1-2c55f8fbd66c').style.display = 'flex' </script> <table border=\"1\" class=\"dataframe\">\n",
       "  <thead>\n",
       "    <tr style=\"text-align: right;\">\n",
       "      <th></th>\n",
       "      <th>Date</th>\n",
       "      <th>Open</th>\n",
       "      <th>High</th>\n",
       "      <th>Low</th>\n",
       "      <th>Close</th>\n",
       "      <th>Volume</th>\n",
       "      <th>Dividends</th>\n",
       "      <th>Stock Splits</th>\n",
       "    </tr>\n",
       "  </thead>\n",
       "  <tbody>\n",
       "    <tr>\n",
       "      <th>0</th>\n",
       "      <td>1997-05-15 00:00:00-04:00</td>\n",
       "      <td>0.121875</td>\n",
       "      <td>0.125000</td>\n",
       "      <td>0.096354</td>\n",
       "      <td>0.097917</td>\n",
       "      <td>1443120000</td>\n",
       "      <td>0.0</td>\n",
       "      <td>0.0</td>\n",
       "    </tr>\n",
       "    <tr>\n",
       "      <th>1</th>\n",
       "      <td>1997-05-16 00:00:00-04:00</td>\n",
       "      <td>0.098438</td>\n",
       "      <td>0.098958</td>\n",
       "      <td>0.085417</td>\n",
       "      <td>0.086458</td>\n",
       "      <td>294000000</td>\n",
       "      <td>0.0</td>\n",
       "      <td>0.0</td>\n",
       "    </tr>\n",
       "    <tr>\n",
       "      <th>2</th>\n",
       "      <td>1997-05-19 00:00:00-04:00</td>\n",
       "      <td>0.088021</td>\n",
       "      <td>0.088542</td>\n",
       "      <td>0.081250</td>\n",
       "      <td>0.085417</td>\n",
       "      <td>122136000</td>\n",
       "      <td>0.0</td>\n",
       "      <td>0.0</td>\n",
       "    </tr>\n",
       "    <tr>\n",
       "      <th>3</th>\n",
       "      <td>1997-05-20 00:00:00-04:00</td>\n",
       "      <td>0.086458</td>\n",
       "      <td>0.087500</td>\n",
       "      <td>0.081771</td>\n",
       "      <td>0.081771</td>\n",
       "      <td>109344000</td>\n",
       "      <td>0.0</td>\n",
       "      <td>0.0</td>\n",
       "    </tr>\n",
       "    <tr>\n",
       "      <th>4</th>\n",
       "      <td>1997-05-21 00:00:00-04:00</td>\n",
       "      <td>0.081771</td>\n",
       "      <td>0.082292</td>\n",
       "      <td>0.068750</td>\n",
       "      <td>0.071354</td>\n",
       "      <td>377064000</td>\n",
       "      <td>0.0</td>\n",
       "      <td>0.0</td>\n",
       "    </tr>\n",
       "    <tr>\n",
       "      <th>...</th>\n",
       "      <td>...</td>\n",
       "      <td>...</td>\n",
       "      <td>...</td>\n",
       "      <td>...</td>\n",
       "      <td>...</td>\n",
       "      <td>...</td>\n",
       "      <td>...</td>\n",
       "      <td>...</td>\n",
       "    </tr>\n",
       "    <tr>\n",
       "      <th>6578</th>\n",
       "      <td>2023-07-07 00:00:00-04:00</td>\n",
       "      <td>128.589996</td>\n",
       "      <td>130.970001</td>\n",
       "      <td>128.130005</td>\n",
       "      <td>129.779999</td>\n",
       "      <td>41928700</td>\n",
       "      <td>0.0</td>\n",
       "      <td>0.0</td>\n",
       "    </tr>\n",
       "    <tr>\n",
       "      <th>6579</th>\n",
       "      <td>2023-07-10 00:00:00-04:00</td>\n",
       "      <td>129.070007</td>\n",
       "      <td>129.279999</td>\n",
       "      <td>125.919998</td>\n",
       "      <td>127.129997</td>\n",
       "      <td>61889300</td>\n",
       "      <td>0.0</td>\n",
       "      <td>0.0</td>\n",
       "    </tr>\n",
       "    <tr>\n",
       "      <th>6580</th>\n",
       "      <td>2023-07-11 00:00:00-04:00</td>\n",
       "      <td>127.750000</td>\n",
       "      <td>129.770004</td>\n",
       "      <td>127.349998</td>\n",
       "      <td>128.779999</td>\n",
       "      <td>49951500</td>\n",
       "      <td>0.0</td>\n",
       "      <td>0.0</td>\n",
       "    </tr>\n",
       "    <tr>\n",
       "      <th>6581</th>\n",
       "      <td>2023-07-12 00:00:00-04:00</td>\n",
       "      <td>130.309998</td>\n",
       "      <td>131.259995</td>\n",
       "      <td>128.830002</td>\n",
       "      <td>130.800003</td>\n",
       "      <td>54022800</td>\n",
       "      <td>0.0</td>\n",
       "      <td>0.0</td>\n",
       "    </tr>\n",
       "    <tr>\n",
       "      <th>6582</th>\n",
       "      <td>2023-07-13 00:00:00-04:00</td>\n",
       "      <td>134.039993</td>\n",
       "      <td>134.669998</td>\n",
       "      <td>132.710007</td>\n",
       "      <td>134.300003</td>\n",
       "      <td>61091500</td>\n",
       "      <td>0.0</td>\n",
       "      <td>0.0</td>\n",
       "    </tr>\n",
       "  </tbody>\n",
       "</table></div>"
      ],
      "text/plain": [
       "                           Date        Open        High         Low  \\\n",
       "0     1997-05-15 00:00:00-04:00    0.121875    0.125000    0.096354   \n",
       "1     1997-05-16 00:00:00-04:00    0.098438    0.098958    0.085417   \n",
       "2     1997-05-19 00:00:00-04:00    0.088021    0.088542    0.081250   \n",
       "3     1997-05-20 00:00:00-04:00    0.086458    0.087500    0.081771   \n",
       "4     1997-05-21 00:00:00-04:00    0.081771    0.082292    0.068750   \n",
       "...                         ...         ...         ...         ...   \n",
       "6578  2023-07-07 00:00:00-04:00  128.589996  130.970001  128.130005   \n",
       "6579  2023-07-10 00:00:00-04:00  129.070007  129.279999  125.919998   \n",
       "6580  2023-07-11 00:00:00-04:00  127.750000  129.770004  127.349998   \n",
       "6581  2023-07-12 00:00:00-04:00  130.309998  131.259995  128.830002   \n",
       "6582  2023-07-13 00:00:00-04:00  134.039993  134.669998  132.710007   \n",
       "\n",
       "           Close      Volume  Dividends  Stock Splits  \n",
       "0       0.097917  1443120000        0.0           0.0  \n",
       "1       0.086458   294000000        0.0           0.0  \n",
       "2       0.085417   122136000        0.0           0.0  \n",
       "3       0.081771   109344000        0.0           0.0  \n",
       "4       0.071354   377064000        0.0           0.0  \n",
       "...          ...         ...        ...           ...  \n",
       "6578  129.779999    41928700        0.0           0.0  \n",
       "6579  127.129997    61889300        0.0           0.0  \n",
       "6580  128.779999    49951500        0.0           0.0  \n",
       "6581  130.800003    54022800        0.0           0.0  \n",
       "6582  134.300003    61091500        0.0           0.0  \n",
       "\n",
       "[6583 rows x 8 columns]"
      ]
     },
     "execution_count": 203,
     "metadata": {},
     "output_type": "execute_result"
    }
   ],
   "source": [
    "stock_data = search_stock()\n",
    "stock_data"
   ]
  },
  {
   "cell_type": "markdown",
   "id": "5767dfff",
   "metadata": {},
   "source": [
    "### Setting index as date-time"
   ]
  },
  {
   "cell_type": "code",
   "execution_count": 204,
   "id": "d67a7989",
   "metadata": {},
   "outputs": [
    {
     "data": {
      "text/html": [
       "<div><div id=734ba317-1060-475a-82c0-c4d12ef0a8f8 style=\"display:none; background-color:#9D6CFF; color:white; width:200px; height:30px; padding-left:5px; border-radius:4px; flex-direction:row; justify-content:space-around; align-items:center;\" onmouseover=\"this.style.backgroundColor='#BA9BF8'\" onmouseout=\"this.style.backgroundColor='#9D6CFF'\" onclick=\"window.commands?.execute('create-mitosheet-from-dataframe-output');\">See Full Dataframe in Mito</div> <script> if (window.commands?.hasCommand('create-mitosheet-from-dataframe-output')) document.getElementById('734ba317-1060-475a-82c0-c4d12ef0a8f8').style.display = 'flex' </script> <table border=\"1\" class=\"dataframe\">\n",
       "  <thead>\n",
       "    <tr style=\"text-align: right;\">\n",
       "      <th></th>\n",
       "      <th>Date</th>\n",
       "      <th>Open</th>\n",
       "      <th>High</th>\n",
       "      <th>Low</th>\n",
       "      <th>Close</th>\n",
       "      <th>Volume</th>\n",
       "      <th>Dividends</th>\n",
       "      <th>Stock Splits</th>\n",
       "    </tr>\n",
       "    <tr>\n",
       "      <th>Date</th>\n",
       "      <th></th>\n",
       "      <th></th>\n",
       "      <th></th>\n",
       "      <th></th>\n",
       "      <th></th>\n",
       "      <th></th>\n",
       "      <th></th>\n",
       "      <th></th>\n",
       "    </tr>\n",
       "  </thead>\n",
       "  <tbody>\n",
       "    <tr>\n",
       "      <th>1997-05-15 00:00:00-04:00</th>\n",
       "      <td>1997-05-15 00:00:00-04:00</td>\n",
       "      <td>0.121875</td>\n",
       "      <td>0.125000</td>\n",
       "      <td>0.096354</td>\n",
       "      <td>0.097917</td>\n",
       "      <td>1443120000</td>\n",
       "      <td>0.0</td>\n",
       "      <td>0.0</td>\n",
       "    </tr>\n",
       "    <tr>\n",
       "      <th>1997-05-16 00:00:00-04:00</th>\n",
       "      <td>1997-05-16 00:00:00-04:00</td>\n",
       "      <td>0.098438</td>\n",
       "      <td>0.098958</td>\n",
       "      <td>0.085417</td>\n",
       "      <td>0.086458</td>\n",
       "      <td>294000000</td>\n",
       "      <td>0.0</td>\n",
       "      <td>0.0</td>\n",
       "    </tr>\n",
       "    <tr>\n",
       "      <th>1997-05-19 00:00:00-04:00</th>\n",
       "      <td>1997-05-19 00:00:00-04:00</td>\n",
       "      <td>0.088021</td>\n",
       "      <td>0.088542</td>\n",
       "      <td>0.081250</td>\n",
       "      <td>0.085417</td>\n",
       "      <td>122136000</td>\n",
       "      <td>0.0</td>\n",
       "      <td>0.0</td>\n",
       "    </tr>\n",
       "    <tr>\n",
       "      <th>1997-05-20 00:00:00-04:00</th>\n",
       "      <td>1997-05-20 00:00:00-04:00</td>\n",
       "      <td>0.086458</td>\n",
       "      <td>0.087500</td>\n",
       "      <td>0.081771</td>\n",
       "      <td>0.081771</td>\n",
       "      <td>109344000</td>\n",
       "      <td>0.0</td>\n",
       "      <td>0.0</td>\n",
       "    </tr>\n",
       "    <tr>\n",
       "      <th>1997-05-21 00:00:00-04:00</th>\n",
       "      <td>1997-05-21 00:00:00-04:00</td>\n",
       "      <td>0.081771</td>\n",
       "      <td>0.082292</td>\n",
       "      <td>0.068750</td>\n",
       "      <td>0.071354</td>\n",
       "      <td>377064000</td>\n",
       "      <td>0.0</td>\n",
       "      <td>0.0</td>\n",
       "    </tr>\n",
       "  </tbody>\n",
       "</table></div>"
      ],
      "text/plain": [
       "                                                Date      Open      High  \\\n",
       "Date                                                                       \n",
       "1997-05-15 00:00:00-04:00  1997-05-15 00:00:00-04:00  0.121875  0.125000   \n",
       "1997-05-16 00:00:00-04:00  1997-05-16 00:00:00-04:00  0.098438  0.098958   \n",
       "1997-05-19 00:00:00-04:00  1997-05-19 00:00:00-04:00  0.088021  0.088542   \n",
       "1997-05-20 00:00:00-04:00  1997-05-20 00:00:00-04:00  0.086458  0.087500   \n",
       "1997-05-21 00:00:00-04:00  1997-05-21 00:00:00-04:00  0.081771  0.082292   \n",
       "\n",
       "                                Low     Close      Volume  Dividends  \\\n",
       "Date                                                                   \n",
       "1997-05-15 00:00:00-04:00  0.096354  0.097917  1443120000        0.0   \n",
       "1997-05-16 00:00:00-04:00  0.085417  0.086458   294000000        0.0   \n",
       "1997-05-19 00:00:00-04:00  0.081250  0.085417   122136000        0.0   \n",
       "1997-05-20 00:00:00-04:00  0.081771  0.081771   109344000        0.0   \n",
       "1997-05-21 00:00:00-04:00  0.068750  0.071354   377064000        0.0   \n",
       "\n",
       "                           Stock Splits  \n",
       "Date                                     \n",
       "1997-05-15 00:00:00-04:00           0.0  \n",
       "1997-05-16 00:00:00-04:00           0.0  \n",
       "1997-05-19 00:00:00-04:00           0.0  \n",
       "1997-05-20 00:00:00-04:00           0.0  \n",
       "1997-05-21 00:00:00-04:00           0.0  "
      ]
     },
     "execution_count": 204,
     "metadata": {},
     "output_type": "execute_result"
    }
   ],
   "source": [
    "stock_data.index = pd.to_datetime(stock_data.Date)\n",
    "stock_data.head()"
   ]
  },
  {
   "cell_type": "code",
   "execution_count": 205,
   "id": "e073b907",
   "metadata": {},
   "outputs": [
    {
     "data": {
      "text/plain": [
       "<AxesSubplot:xlabel='Year', ylabel='Price'>"
      ]
     },
     "execution_count": 205,
     "metadata": {},
     "output_type": "execute_result"
    },
    {
     "data": {
      "image/png": "[encoded data removed]",
      "text/plain": [
       "<Figure size 1152x360 with 1 Axes>"
      ]
     },
     "metadata": {
      "needs_background": "light"
     },
     "output_type": "display_data"
    }
   ],
   "source": [
    "#Visualising Stock Closing Price since 2007\n",
    "stock_data.plot.line(y=['Close'], use_index= True, figsize=(16,5), xlabel='Year', ylabel='Price')"
   ]
  },
  {
   "cell_type": "markdown",
   "id": "079a6e23",
   "metadata": {},
   "source": [
    "## Preprocessing Data"
   ]
  },
  {
   "cell_type": "code",
   "execution_count": 206,
   "id": "2e475d75",
   "metadata": {
    "scrolled": true
   },
   "outputs": [
    {
     "data": {
      "text/html": [
       "<div><div id=f82d2370-b3d8-400e-aafc-b4363755fcb5 style=\"display:none; background-color:#9D6CFF; color:white; width:200px; height:30px; padding-left:5px; border-radius:4px; flex-direction:row; justify-content:space-around; align-items:center;\" onmouseover=\"this.style.backgroundColor='#BA9BF8'\" onmouseout=\"this.style.backgroundColor='#9D6CFF'\" onclick=\"window.commands?.execute('create-mitosheet-from-dataframe-output');\">See Full Dataframe in Mito</div> <script> if (window.commands?.hasCommand('create-mitosheet-from-dataframe-output')) document.getElementById('f82d2370-b3d8-400e-aafc-b4363755fcb5').style.display = 'flex' </script> <table border=\"1\" class=\"dataframe\">\n",
       "  <thead>\n",
       "    <tr style=\"text-align: right;\">\n",
       "      <th></th>\n",
       "      <th>Date</th>\n",
       "      <th>Open</th>\n",
       "      <th>High</th>\n",
       "      <th>Low</th>\n",
       "      <th>Close</th>\n",
       "      <th>Volume</th>\n",
       "    </tr>\n",
       "    <tr>\n",
       "      <th>Date</th>\n",
       "      <th></th>\n",
       "      <th></th>\n",
       "      <th></th>\n",
       "      <th></th>\n",
       "      <th></th>\n",
       "      <th></th>\n",
       "    </tr>\n",
       "  </thead>\n",
       "  <tbody>\n",
       "    <tr>\n",
       "      <th>1997-05-15 00:00:00-04:00</th>\n",
       "      <td>1997-05-15 00:00:00-04:00</td>\n",
       "      <td>0.121875</td>\n",
       "      <td>0.125000</td>\n",
       "      <td>0.096354</td>\n",
       "      <td>0.097917</td>\n",
       "      <td>1443120000</td>\n",
       "    </tr>\n",
       "    <tr>\n",
       "      <th>1997-05-16 00:00:00-04:00</th>\n",
       "      <td>1997-05-16 00:00:00-04:00</td>\n",
       "      <td>0.098438</td>\n",
       "      <td>0.098958</td>\n",
       "      <td>0.085417</td>\n",
       "      <td>0.086458</td>\n",
       "      <td>294000000</td>\n",
       "    </tr>\n",
       "    <tr>\n",
       "      <th>1997-05-19 00:00:00-04:00</th>\n",
       "      <td>1997-05-19 00:00:00-04:00</td>\n",
       "      <td>0.088021</td>\n",
       "      <td>0.088542</td>\n",
       "      <td>0.081250</td>\n",
       "      <td>0.085417</td>\n",
       "      <td>122136000</td>\n",
       "    </tr>\n",
       "    <tr>\n",
       "      <th>1997-05-20 00:00:00-04:00</th>\n",
       "      <td>1997-05-20 00:00:00-04:00</td>\n",
       "      <td>0.086458</td>\n",
       "      <td>0.087500</td>\n",
       "      <td>0.081771</td>\n",
       "      <td>0.081771</td>\n",
       "      <td>109344000</td>\n",
       "    </tr>\n",
       "    <tr>\n",
       "      <th>1997-05-21 00:00:00-04:00</th>\n",
       "      <td>1997-05-21 00:00:00-04:00</td>\n",
       "      <td>0.081771</td>\n",
       "      <td>0.082292</td>\n",
       "      <td>0.068750</td>\n",
       "      <td>0.071354</td>\n",
       "      <td>377064000</td>\n",
       "    </tr>\n",
       "  </tbody>\n",
       "</table></div>"
      ],
      "text/plain": [
       "                                                Date      Open      High  \\\n",
       "Date                                                                       \n",
       "1997-05-15 00:00:00-04:00  1997-05-15 00:00:00-04:00  0.121875  0.125000   \n",
       "1997-05-16 00:00:00-04:00  1997-05-16 00:00:00-04:00  0.098438  0.098958   \n",
       "1997-05-19 00:00:00-04:00  1997-05-19 00:00:00-04:00  0.088021  0.088542   \n",
       "1997-05-20 00:00:00-04:00  1997-05-20 00:00:00-04:00  0.086458  0.087500   \n",
       "1997-05-21 00:00:00-04:00  1997-05-21 00:00:00-04:00  0.081771  0.082292   \n",
       "\n",
       "                                Low     Close      Volume  \n",
       "Date                                                       \n",
       "1997-05-15 00:00:00-04:00  0.096354  0.097917  1443120000  \n",
       "1997-05-16 00:00:00-04:00  0.085417  0.086458   294000000  \n",
       "1997-05-19 00:00:00-04:00  0.081250  0.085417   122136000  \n",
       "1997-05-20 00:00:00-04:00  0.081771  0.081771   109344000  \n",
       "1997-05-21 00:00:00-04:00  0.068750  0.071354   377064000  "
      ]
     },
     "execution_count": 206,
     "metadata": {},
     "output_type": "execute_result"
    }
   ],
   "source": [
    "#Removing irrelevant columns before Model Training - Dividends + Stock Splits\n",
    "del stock_data['Dividends']\n",
    "del stock_data['Stock Splits']\n",
    "stock_data.head()"
   ]
  },
  {
   "cell_type": "markdown",
   "id": "78467ab2",
   "metadata": {},
   "source": [
    "### Creating Target Column"
   ]
  },
  {
   "cell_type": "markdown",
   "id": "ecad1bd0",
   "metadata": {},
   "source": [
    "Target column = 1 if tomorrow's Closing Price (Tomorrow Column) is greater than today's closing price else 0. (Close Column)"
   ]
  },
  {
   "cell_type": "code",
   "execution_count": 207,
   "id": "c0927e96",
   "metadata": {
    "scrolled": true
   },
   "outputs": [
    {
     "data": {
      "text/html": [
       "<div><div id=61e450b6-68ac-4bc0-bb1f-63aa1183a29d style=\"display:none; background-color:#9D6CFF; color:white; width:200px; height:30px; padding-left:5px; border-radius:4px; flex-direction:row; justify-content:space-around; align-items:center;\" onmouseover=\"this.style.backgroundColor='#BA9BF8'\" onmouseout=\"this.style.backgroundColor='#9D6CFF'\" onclick=\"window.commands?.execute('create-mitosheet-from-dataframe-output');\">See Full Dataframe in Mito</div> <script> if (window.commands?.hasCommand('create-mitosheet-from-dataframe-output')) document.getElementById('61e450b6-68ac-4bc0-bb1f-63aa1183a29d').style.display = 'flex' </script> <table border=\"1\" class=\"dataframe\">\n",
       "  <thead>\n",
       "    <tr style=\"text-align: right;\">\n",
       "      <th></th>\n",
       "      <th>Date</th>\n",
       "      <th>Open</th>\n",
       "      <th>High</th>\n",
       "      <th>Low</th>\n",
       "      <th>Close</th>\n",
       "      <th>Volume</th>\n",
       "      <th>Tomorrow</th>\n",
       "    </tr>\n",
       "    <tr>\n",
       "      <th>Date</th>\n",
       "      <th></th>\n",
       "      <th></th>\n",
       "      <th></th>\n",
       "      <th></th>\n",
       "      <th></th>\n",
       "      <th></th>\n",
       "      <th></th>\n",
       "    </tr>\n",
       "  </thead>\n",
       "  <tbody>\n",
       "    <tr>\n",
       "      <th>1997-05-15 00:00:00-04:00</th>\n",
       "      <td>1997-05-15 00:00:00-04:00</td>\n",
       "      <td>0.121875</td>\n",
       "      <td>0.125000</td>\n",
       "      <td>0.096354</td>\n",
       "      <td>0.097917</td>\n",
       "      <td>1443120000</td>\n",
       "      <td>0.086458</td>\n",
       "    </tr>\n",
       "    <tr>\n",
       "      <th>1997-05-16 00:00:00-04:00</th>\n",
       "      <td>1997-05-16 00:00:00-04:00</td>\n",
       "      <td>0.098438</td>\n",
       "      <td>0.098958</td>\n",
       "      <td>0.085417</td>\n",
       "      <td>0.086458</td>\n",
       "      <td>294000000</td>\n",
       "      <td>0.085417</td>\n",
       "    </tr>\n",
       "    <tr>\n",
       "      <th>1997-05-19 00:00:00-04:00</th>\n",
       "      <td>1997-05-19 00:00:00-04:00</td>\n",
       "      <td>0.088021</td>\n",
       "      <td>0.088542</td>\n",
       "      <td>0.081250</td>\n",
       "      <td>0.085417</td>\n",
       "      <td>122136000</td>\n",
       "      <td>0.081771</td>\n",
       "    </tr>\n",
       "    <tr>\n",
       "      <th>1997-05-20 00:00:00-04:00</th>\n",
       "      <td>1997-05-20 00:00:00-04:00</td>\n",
       "      <td>0.086458</td>\n",
       "      <td>0.087500</td>\n",
       "      <td>0.081771</td>\n",
       "      <td>0.081771</td>\n",
       "      <td>109344000</td>\n",
       "      <td>0.071354</td>\n",
       "    </tr>\n",
       "    <tr>\n",
       "      <th>1997-05-21 00:00:00-04:00</th>\n",
       "      <td>1997-05-21 00:00:00-04:00</td>\n",
       "      <td>0.081771</td>\n",
       "      <td>0.082292</td>\n",
       "      <td>0.068750</td>\n",
       "      <td>0.071354</td>\n",
       "      <td>377064000</td>\n",
       "      <td>0.069792</td>\n",
       "    </tr>\n",
       "    <tr>\n",
       "      <th>...</th>\n",
       "      <td>...</td>\n",
       "      <td>...</td>\n",
       "      <td>...</td>\n",
       "      <td>...</td>\n",
       "      <td>...</td>\n",
       "      <td>...</td>\n",
       "      <td>...</td>\n",
       "    </tr>\n",
       "    <tr>\n",
       "      <th>2023-07-07 00:00:00-04:00</th>\n",
       "      <td>2023-07-07 00:00:00-04:00</td>\n",
       "      <td>128.589996</td>\n",
       "      <td>130.970001</td>\n",
       "      <td>128.130005</td>\n",
       "      <td>129.779999</td>\n",
       "      <td>41928700</td>\n",
       "      <td>127.129997</td>\n",
       "    </tr>\n",
       "    <tr>\n",
       "      <th>2023-07-10 00:00:00-04:00</th>\n",
       "      <td>2023-07-10 00:00:00-04:00</td>\n",
       "      <td>129.070007</td>\n",
       "      <td>129.279999</td>\n",
       "      <td>125.919998</td>\n",
       "      <td>127.129997</td>\n",
       "      <td>61889300</td>\n",
       "      <td>128.779999</td>\n",
       "    </tr>\n",
       "    <tr>\n",
       "      <th>2023-07-11 00:00:00-04:00</th>\n",
       "      <td>2023-07-11 00:00:00-04:00</td>\n",
       "      <td>127.750000</td>\n",
       "      <td>129.770004</td>\n",
       "      <td>127.349998</td>\n",
       "      <td>128.779999</td>\n",
       "      <td>49951500</td>\n",
       "      <td>130.800003</td>\n",
       "    </tr>\n",
       "    <tr>\n",
       "      <th>2023-07-12 00:00:00-04:00</th>\n",
       "      <td>2023-07-12 00:00:00-04:00</td>\n",
       "      <td>130.309998</td>\n",
       "      <td>131.259995</td>\n",
       "      <td>128.830002</td>\n",
       "      <td>130.800003</td>\n",
       "      <td>54022800</td>\n",
       "      <td>134.300003</td>\n",
       "    </tr>\n",
       "    <tr>\n",
       "      <th>2023-07-13 00:00:00-04:00</th>\n",
       "      <td>2023-07-13 00:00:00-04:00</td>\n",
       "      <td>134.039993</td>\n",
       "      <td>134.669998</td>\n",
       "      <td>132.710007</td>\n",
       "      <td>134.300003</td>\n",
       "      <td>61091500</td>\n",
       "      <td>NaN</td>\n",
       "    </tr>\n",
       "  </tbody>\n",
       "</table></div>"
      ],
      "text/plain": [
       "                                                Date        Open        High  \\\n",
       "Date                                                                           \n",
       "1997-05-15 00:00:00-04:00  1997-05-15 00:00:00-04:00    0.121875    0.125000   \n",
       "1997-05-16 00:00:00-04:00  1997-05-16 00:00:00-04:00    0.098438    0.098958   \n",
       "1997-05-19 00:00:00-04:00  1997-05-19 00:00:00-04:00    0.088021    0.088542   \n",
       "1997-05-20 00:00:00-04:00  1997-05-20 00:00:00-04:00    0.086458    0.087500   \n",
       "1997-05-21 00:00:00-04:00  1997-05-21 00:00:00-04:00    0.081771    0.082292   \n",
       "...                                              ...         ...         ...   \n",
       "2023-07-07 00:00:00-04:00  2023-07-07 00:00:00-04:00  128.589996  130.970001   \n",
       "2023-07-10 00:00:00-04:00  2023-07-10 00:00:00-04:00  129.070007  129.279999   \n",
       "2023-07-11 00:00:00-04:00  2023-07-11 00:00:00-04:00  127.750000  129.770004   \n",
       "2023-07-12 00:00:00-04:00  2023-07-12 00:00:00-04:00  130.309998  131.259995   \n",
       "2023-07-13 00:00:00-04:00  2023-07-13 00:00:00-04:00  134.039993  134.669998   \n",
       "\n",
       "                                  Low       Close      Volume    Tomorrow  \n",
       "Date                                                                       \n",
       "1997-05-15 00:00:00-04:00    0.096354    0.097917  1443120000    0.086458  \n",
       "1997-05-16 00:00:00-04:00    0.085417    0.086458   294000000    0.085417  \n",
       "1997-05-19 00:00:00-04:00    0.081250    0.085417   122136000    0.081771  \n",
       "1997-05-20 00:00:00-04:00    0.081771    0.081771   109344000    0.071354  \n",
       "1997-05-21 00:00:00-04:00    0.068750    0.071354   377064000    0.069792  \n",
       "...                               ...         ...         ...         ...  \n",
       "2023-07-07 00:00:00-04:00  128.130005  129.779999    41928700  127.129997  \n",
       "2023-07-10 00:00:00-04:00  125.919998  127.129997    61889300  128.779999  \n",
       "2023-07-11 00:00:00-04:00  127.349998  128.779999    49951500  130.800003  \n",
       "2023-07-12 00:00:00-04:00  128.830002  130.800003    54022800  134.300003  \n",
       "2023-07-13 00:00:00-04:00  132.710007  134.300003    61091500         NaN  \n",
       "\n",
       "[6583 rows x 7 columns]"
      ]
     },
     "execution_count": 207,
     "metadata": {},
     "output_type": "execute_result"
    }
   ],
   "source": [
    "stock_data[\"Tomorrow\"] = stock_data[\"Close\"].shift(-1)\n",
    "stock_data"
   ]
  },
  {
   "cell_type": "code",
   "execution_count": 208,
   "id": "2362a90f",
   "metadata": {
    "scrolled": true
   },
   "outputs": [
    {
     "data": {
      "text/html": [
       "<div><div id=788f8f7c-2454-402c-9b43-4533b772d3cb style=\"display:none; background-color:#9D6CFF; color:white; width:200px; height:30px; padding-left:5px; border-radius:4px; flex-direction:row; justify-content:space-around; align-items:center;\" onmouseover=\"this.style.backgroundColor='#BA9BF8'\" onmouseout=\"this.style.backgroundColor='#9D6CFF'\" onclick=\"window.commands?.execute('create-mitosheet-from-dataframe-output');\">See Full Dataframe in Mito</div> <script> if (window.commands?.hasCommand('create-mitosheet-from-dataframe-output')) document.getElementById('788f8f7c-2454-402c-9b43-4533b772d3cb').style.display = 'flex' </script> <table border=\"1\" class=\"dataframe\">\n",
       "  <thead>\n",
       "    <tr style=\"text-align: right;\">\n",
       "      <th></th>\n",
       "      <th>Date</th>\n",
       "      <th>Open</th>\n",
       "      <th>High</th>\n",
       "      <th>Low</th>\n",
       "      <th>Close</th>\n",
       "      <th>Volume</th>\n",
       "      <th>Tomorrow</th>\n",
       "      <th>Target</th>\n",
       "    </tr>\n",
       "    <tr>\n",
       "      <th>Date</th>\n",
       "      <th></th>\n",
       "      <th></th>\n",
       "      <th></th>\n",
       "      <th></th>\n",
       "      <th></th>\n",
       "      <th></th>\n",
       "      <th></th>\n",
       "      <th></th>\n",
       "    </tr>\n",
       "  </thead>\n",
       "  <tbody>\n",
       "    <tr>\n",
       "      <th>1997-05-15 00:00:00-04:00</th>\n",
       "      <td>1997-05-15 00:00:00-04:00</td>\n",
       "      <td>0.121875</td>\n",
       "      <td>0.125000</td>\n",
       "      <td>0.096354</td>\n",
       "      <td>0.097917</td>\n",
       "      <td>1443120000</td>\n",
       "      <td>0.086458</td>\n",
       "      <td>0</td>\n",
       "    </tr>\n",
       "    <tr>\n",
       "      <th>1997-05-16 00:00:00-04:00</th>\n",
       "      <td>1997-05-16 00:00:00-04:00</td>\n",
       "      <td>0.098438</td>\n",
       "      <td>0.098958</td>\n",
       "      <td>0.085417</td>\n",
       "      <td>0.086458</td>\n",
       "      <td>294000000</td>\n",
       "      <td>0.085417</td>\n",
       "      <td>0</td>\n",
       "    </tr>\n",
       "    <tr>\n",
       "      <th>1997-05-19 00:00:00-04:00</th>\n",
       "      <td>1997-05-19 00:00:00-04:00</td>\n",
       "      <td>0.088021</td>\n",
       "      <td>0.088542</td>\n",
       "      <td>0.081250</td>\n",
       "      <td>0.085417</td>\n",
       "      <td>122136000</td>\n",
       "      <td>0.081771</td>\n",
       "      <td>0</td>\n",
       "    </tr>\n",
       "    <tr>\n",
       "      <th>1997-05-20 00:00:00-04:00</th>\n",
       "      <td>1997-05-20 00:00:00-04:00</td>\n",
       "      <td>0.086458</td>\n",
       "      <td>0.087500</td>\n",
       "      <td>0.081771</td>\n",
       "      <td>0.081771</td>\n",
       "      <td>109344000</td>\n",
       "      <td>0.071354</td>\n",
       "      <td>0</td>\n",
       "    </tr>\n",
       "    <tr>\n",
       "      <th>1997-05-21 00:00:00-04:00</th>\n",
       "      <td>1997-05-21 00:00:00-04:00</td>\n",
       "      <td>0.081771</td>\n",
       "      <td>0.082292</td>\n",
       "      <td>0.068750</td>\n",
       "      <td>0.071354</td>\n",
       "      <td>377064000</td>\n",
       "      <td>0.069792</td>\n",
       "      <td>0</td>\n",
       "    </tr>\n",
       "  </tbody>\n",
       "</table></div>"
      ],
      "text/plain": [
       "                                                Date      Open      High  \\\n",
       "Date                                                                       \n",
       "1997-05-15 00:00:00-04:00  1997-05-15 00:00:00-04:00  0.121875  0.125000   \n",
       "1997-05-16 00:00:00-04:00  1997-05-16 00:00:00-04:00  0.098438  0.098958   \n",
       "1997-05-19 00:00:00-04:00  1997-05-19 00:00:00-04:00  0.088021  0.088542   \n",
       "1997-05-20 00:00:00-04:00  1997-05-20 00:00:00-04:00  0.086458  0.087500   \n",
       "1997-05-21 00:00:00-04:00  1997-05-21 00:00:00-04:00  0.081771  0.082292   \n",
       "\n",
       "                                Low     Close      Volume  Tomorrow  Target  \n",
       "Date                                                                         \n",
       "1997-05-15 00:00:00-04:00  0.096354  0.097917  1443120000  0.086458       0  \n",
       "1997-05-16 00:00:00-04:00  0.085417  0.086458   294000000  0.085417       0  \n",
       "1997-05-19 00:00:00-04:00  0.081250  0.085417   122136000  0.081771       0  \n",
       "1997-05-20 00:00:00-04:00  0.081771  0.081771   109344000  0.071354       0  \n",
       "1997-05-21 00:00:00-04:00  0.068750  0.071354   377064000  0.069792       0  "
      ]
     },
     "execution_count": 208,
     "metadata": {},
     "output_type": "execute_result"
    }
   ],
   "source": [
    "stock_data[\"Target\"] = (stock_data[\"Tomorrow\"] > stock_data[\"Close\"]).astype(int)\n",
    "stock_data.head()"
   ]
  },
  {
   "cell_type": "markdown",
   "id": "a0f3f1fd",
   "metadata": {},
   "source": [
    "## Training the Model"
   ]
  },
  {
   "cell_type": "code",
   "execution_count": 209,
   "id": "61b364d5",
   "metadata": {},
   "outputs": [
    {
     "data": {
      "text/html": [
       "<style>#sk-container-id-5 {color: black;background-color: white;}#sk-container-id-5 pre{padding: 0;}#sk-container-id-5 div.sk-toggleable {background-color: white;}#sk-container-id-5 label.sk-toggleable__label {cursor: pointer;display: block;width: 100%;margin-bottom: 0;padding: 0.3em;box-sizing: border-box;text-align: center;}#sk-container-id-5 label.sk-toggleable__label-arrow:before {content: \"▸\";float: left;margin-right: 0.25em;color: #696969;}#sk-container-id-5 label.sk-toggleable__label-arrow:hover:before {color: black;}#sk-container-id-5 div.sk-estimator:hover label.sk-toggleable__label-arrow:before {color: black;}#sk-container-id-5 div.sk-toggleable__content {max-height: 0;max-width: 0;overflow: hidden;text-align: left;background-color: #f0f8ff;}#sk-container-id-5 div.sk-toggleable__content pre {margin: 0.2em;color: black;border-radius: 0.25em;background-color: #f0f8ff;}#sk-container-id-5 input.sk-toggleable__control:checked~div.sk-toggleable__content {max-height: 200px;max-width: 100%;overflow: auto;}#sk-container-id-5 input.sk-toggleable__control:checked~label.sk-toggleable__label-arrow:before {content: \"▾\";}#sk-container-id-5 div.sk-estimator input.sk-toggleable__control:checked~label.sk-toggleable__label {background-color: #d4ebff;}#sk-container-id-5 div.sk-label input.sk-toggleable__control:checked~label.sk-toggleable__label {background-color: #d4ebff;}#sk-container-id-5 input.sk-hidden--visually {border: 0;clip: rect(1px 1px 1px 1px);clip: rect(1px, 1px, 1px, 1px);height: 1px;margin: -1px;overflow: hidden;padding: 0;position: absolute;width: 1px;}#sk-container-id-5 div.sk-estimator {font-family: monospace;background-color: #f0f8ff;border: 1px dotted black;border-radius: 0.25em;box-sizing: border-box;margin-bottom: 0.5em;}#sk-container-id-5 div.sk-estimator:hover {background-color: #d4ebff;}#sk-container-id-5 div.sk-parallel-item::after {content: \"\";width: 100%;border-bottom: 1px solid gray;flex-grow: 1;}#sk-container-id-5 div.sk-label:hover label.sk-toggleable__label {background-color: #d4ebff;}#sk-container-id-5 div.sk-serial::before {content: \"\";position: absolute;border-left: 1px solid gray;box-sizing: border-box;top: 0;bottom: 0;left: 50%;z-index: 0;}#sk-container-id-5 div.sk-serial {display: flex;flex-direction: column;align-items: center;background-color: white;padding-right: 0.2em;padding-left: 0.2em;position: relative;}#sk-container-id-5 div.sk-item {position: relative;z-index: 1;}#sk-container-id-5 div.sk-parallel {display: flex;align-items: stretch;justify-content: center;background-color: white;position: relative;}#sk-container-id-5 div.sk-item::before, #sk-container-id-5 div.sk-parallel-item::before {content: \"\";position: absolute;border-left: 1px solid gray;box-sizing: border-box;top: 0;bottom: 0;left: 50%;z-index: -1;}#sk-container-id-5 div.sk-parallel-item {display: flex;flex-direction: column;z-index: 1;position: relative;background-color: white;}#sk-container-id-5 div.sk-parallel-item:first-child::after {align-self: flex-end;width: 50%;}#sk-container-id-5 div.sk-parallel-item:last-child::after {align-self: flex-start;width: 50%;}#sk-container-id-5 div.sk-parallel-item:only-child::after {width: 0;}#sk-container-id-5 div.sk-dashed-wrapped {border: 1px dashed gray;margin: 0 0.4em 0.5em 0.4em;box-sizing: border-box;padding-bottom: 0.4em;background-color: white;}#sk-container-id-5 div.sk-label label {font-family: monospace;font-weight: bold;display: inline-block;line-height: 1.2em;}#sk-container-id-5 div.sk-label-container {text-align: center;}#sk-container-id-5 div.sk-container {/* jupyter's `normalize.less` sets `[hidden] { display: none; }` but bootstrap.min.css set `[hidden] { display: none !important; }` so we also need the `!important` here to be able to override the default hidden behavior on the sphinx rendered scikit-learn.org. See: https://github.com/scikit-learn/scikit-learn/issues/21755 */display: inline-block !important;position: relative;}#sk-container-id-5 div.sk-text-repr-fallback {display: none;}</style><div id=\"sk-container-id-5\" class=\"sk-top-container\"><div class=\"sk-text-repr-fallback\"><pre>RandomForestClassifier(min_samples_split=100, n_estimators=250, random_state=1)</pre><b>In a Jupyter environment, please rerun this cell to show the HTML representation or trust the notebook. <br />On GitHub, the HTML representation is unable to render, please try loading this page with nbviewer.org.</b></div><div class=\"sk-container\" hidden><div class=\"sk-item\"><div class=\"sk-estimator sk-toggleable\"><input class=\"sk-toggleable__control sk-hidden--visually\" id=\"sk-estimator-id-5\" type=\"checkbox\" checked><label for=\"sk-estimator-id-5\" class=\"sk-toggleable__label sk-toggleable__label-arrow\">RandomForestClassifier</label><div class=\"sk-toggleable__content\"><pre>RandomForestClassifier(min_samples_split=100, n_estimators=250, random_state=1)</pre></div></div></div></div></div>"
      ],
      "text/plain": [
       "RandomForestClassifier(min_samples_split=100, n_estimators=250, random_state=1)"
      ]
     },
     "execution_count": 209,
     "metadata": {},
     "output_type": "execute_result"
    }
   ],
   "source": [
    "from sklearn.ensemble import RandomForestClassifier\n",
    "\n",
    "model = RandomForestClassifier(n_estimators=250, min_samples_split=100, random_state=1)\n",
    "\n",
    "train = stock_data.iloc[:-820] #80% of data for training approx.\n",
    "test = stock_data.iloc[-820:] #20% of data for testing approx.\n",
    "\n",
    "predictors = [\"Close\", \"Volume\", \"Open\", \"High\", \"Low\"] #Valid Columns for training rfc model\n",
    "model.fit(train[predictors], train[\"Target\"])"
   ]
  },
  {
   "cell_type": "markdown",
   "id": "89bab8bb",
   "metadata": {},
   "source": [
    "## Making Prediction from the RFC Model"
   ]
  },
  {
   "cell_type": "code",
   "execution_count": 210,
   "id": "7e4d5900",
   "metadata": {
    "scrolled": true
   },
   "outputs": [
    {
     "data": {
      "text/plain": [
       "(Date\n",
       " 2020-04-09 00:00:00-04:00    0\n",
       " 2020-04-13 00:00:00-04:00    0\n",
       " 2020-04-14 00:00:00-04:00    0\n",
       " 2020-04-15 00:00:00-04:00    0\n",
       " 2020-04-16 00:00:00-04:00    0\n",
       "                             ..\n",
       " 2023-07-07 00:00:00-04:00    0\n",
       " 2023-07-10 00:00:00-04:00    0\n",
       " 2023-07-11 00:00:00-04:00    0\n",
       " 2023-07-12 00:00:00-04:00    0\n",
       " 2023-07-13 00:00:00-04:00    0\n",
       " Name: Predictions, Length: 820, dtype: int64,\n",
       " pandas.core.indexes.base.Index)"
      ]
     },
     "execution_count": 210,
     "metadata": {},
     "output_type": "execute_result"
    }
   ],
   "source": [
    "#Predicting From the Trained Model\n",
    "preds = model.predict(test[predictors])\n",
    "preds = pd.Series(preds, index=test.index, name=\"Predictions\")\n",
    "preds, type(test.index)"
   ]
  },
  {
   "cell_type": "markdown",
   "id": "0628bf20",
   "metadata": {},
   "source": [
    "### Comparing Target (Actual) vs Predictions generated from rfc model"
   ]
  },
  {
   "cell_type": "code",
   "execution_count": 211,
   "id": "d7871e91",
   "metadata": {
    "scrolled": true
   },
   "outputs": [
    {
     "data": {
      "text/html": [
       "<div><div id=a0d321ce-91fd-4be7-ab67-dc12b5d3c788 style=\"display:none; background-color:#9D6CFF; color:white; width:200px; height:30px; padding-left:5px; border-radius:4px; flex-direction:row; justify-content:space-around; align-items:center;\" onmouseover=\"this.style.backgroundColor='#BA9BF8'\" onmouseout=\"this.style.backgroundColor='#9D6CFF'\" onclick=\"window.commands?.execute('create-mitosheet-from-dataframe-output');\">See Full Dataframe in Mito</div> <script> if (window.commands?.hasCommand('create-mitosheet-from-dataframe-output')) document.getElementById('a0d321ce-91fd-4be7-ab67-dc12b5d3c788').style.display = 'flex' </script> <table border=\"1\" class=\"dataframe\">\n",
       "  <thead>\n",
       "    <tr style=\"text-align: right;\">\n",
       "      <th></th>\n",
       "      <th>Target</th>\n",
       "      <th>Predictions</th>\n",
       "    </tr>\n",
       "    <tr>\n",
       "      <th>Date</th>\n",
       "      <th></th>\n",
       "      <th></th>\n",
       "    </tr>\n",
       "  </thead>\n",
       "  <tbody>\n",
       "    <tr>\n",
       "      <th>2020-04-09 00:00:00-04:00</th>\n",
       "      <td>1</td>\n",
       "      <td>0</td>\n",
       "    </tr>\n",
       "    <tr>\n",
       "      <th>2020-04-13 00:00:00-04:00</th>\n",
       "      <td>1</td>\n",
       "      <td>0</td>\n",
       "    </tr>\n",
       "    <tr>\n",
       "      <th>2020-04-14 00:00:00-04:00</th>\n",
       "      <td>1</td>\n",
       "      <td>0</td>\n",
       "    </tr>\n",
       "    <tr>\n",
       "      <th>2020-04-15 00:00:00-04:00</th>\n",
       "      <td>1</td>\n",
       "      <td>0</td>\n",
       "    </tr>\n",
       "    <tr>\n",
       "      <th>2020-04-16 00:00:00-04:00</th>\n",
       "      <td>0</td>\n",
       "      <td>0</td>\n",
       "    </tr>\n",
       "    <tr>\n",
       "      <th>...</th>\n",
       "      <td>...</td>\n",
       "      <td>...</td>\n",
       "    </tr>\n",
       "    <tr>\n",
       "      <th>2023-07-07 00:00:00-04:00</th>\n",
       "      <td>0</td>\n",
       "      <td>0</td>\n",
       "    </tr>\n",
       "    <tr>\n",
       "      <th>2023-07-10 00:00:00-04:00</th>\n",
       "      <td>1</td>\n",
       "      <td>0</td>\n",
       "    </tr>\n",
       "    <tr>\n",
       "      <th>2023-07-11 00:00:00-04:00</th>\n",
       "      <td>1</td>\n",
       "      <td>0</td>\n",
       "    </tr>\n",
       "    <tr>\n",
       "      <th>2023-07-12 00:00:00-04:00</th>\n",
       "      <td>1</td>\n",
       "      <td>0</td>\n",
       "    </tr>\n",
       "    <tr>\n",
       "      <th>2023-07-13 00:00:00-04:00</th>\n",
       "      <td>0</td>\n",
       "      <td>0</td>\n",
       "    </tr>\n",
       "  </tbody>\n",
       "</table></div>"
      ],
      "text/plain": [
       "                           Target  Predictions\n",
       "Date                                          \n",
       "2020-04-09 00:00:00-04:00       1            0\n",
       "2020-04-13 00:00:00-04:00       1            0\n",
       "2020-04-14 00:00:00-04:00       1            0\n",
       "2020-04-15 00:00:00-04:00       1            0\n",
       "2020-04-16 00:00:00-04:00       0            0\n",
       "...                           ...          ...\n",
       "2023-07-07 00:00:00-04:00       0            0\n",
       "2023-07-10 00:00:00-04:00       1            0\n",
       "2023-07-11 00:00:00-04:00       1            0\n",
       "2023-07-12 00:00:00-04:00       1            0\n",
       "2023-07-13 00:00:00-04:00       0            0\n",
       "\n",
       "[820 rows x 2 columns]"
      ]
     },
     "execution_count": 211,
     "metadata": {},
     "output_type": "execute_result"
    }
   ],
   "source": [
    "combined = pd.concat([test[\"Target\"], preds], axis=1)\n",
    "combined"
   ]
  },
  {
   "cell_type": "markdown",
   "id": "61919f55",
   "metadata": {},
   "source": [
    "### Bring the above steps altogether"
   ]
  },
  {
   "cell_type": "code",
   "execution_count": 212,
   "id": "cc3d43da",
   "metadata": {},
   "outputs": [],
   "source": [
    "def generate_predictions(data, model, predictors, start=820, step=150):\n",
    "    all_predictions = []\n",
    "\n",
    "    for i in range(start, data.shape[0], step):\n",
    "        train = data.iloc[0:i].copy() #splitting data into training data\n",
    "        test = data.iloc[i:(i+step)].copy() #splitting data inot testing data\n",
    "        model.fit(train[predictors], train[\"Target\"]) #model fitting\n",
    "        preds = model.predict(test[predictors]) #making predictions on the test data\n",
    "        preds = pd.Series(preds, index=test.index, name=\"Predictions\") \n",
    "        combined = pd.concat([test[\"Target\"], preds], axis=1) #pd df for target (actual) vs predicted outcome\n",
    "        all_predictions.append(combined)\n",
    "    \n",
    "    return pd.concat(all_predictions) # returns list of target (actual outcome) vs predictions from rfc model"
   ]
  },
  {
   "cell_type": "code",
   "execution_count": 213,
   "id": "009ac1cb",
   "metadata": {},
   "outputs": [
    {
     "data": {
      "text/html": [
       "<div><div id=4c55c549-e577-41b1-83b8-00be7a69ff1e style=\"display:none; background-color:#9D6CFF; color:white; width:200px; height:30px; padding-left:5px; border-radius:4px; flex-direction:row; justify-content:space-around; align-items:center;\" onmouseover=\"this.style.backgroundColor='#BA9BF8'\" onmouseout=\"this.style.backgroundColor='#9D6CFF'\" onclick=\"window.commands?.execute('create-mitosheet-from-dataframe-output');\">See Full Dataframe in Mito</div> <script> if (window.commands?.hasCommand('create-mitosheet-from-dataframe-output')) document.getElementById('4c55c549-e577-41b1-83b8-00be7a69ff1e').style.display = 'flex' </script> <table border=\"1\" class=\"dataframe\">\n",
       "  <thead>\n",
       "    <tr style=\"text-align: right;\">\n",
       "      <th></th>\n",
       "      <th>Target</th>\n",
       "      <th>Predictions</th>\n",
       "    </tr>\n",
       "    <tr>\n",
       "      <th>Date</th>\n",
       "      <th></th>\n",
       "      <th></th>\n",
       "    </tr>\n",
       "  </thead>\n",
       "  <tbody>\n",
       "    <tr>\n",
       "      <th>2000-08-15 00:00:00-04:00</th>\n",
       "      <td>1</td>\n",
       "      <td>0</td>\n",
       "    </tr>\n",
       "    <tr>\n",
       "      <th>2000-08-16 00:00:00-04:00</th>\n",
       "      <td>0</td>\n",
       "      <td>0</td>\n",
       "    </tr>\n",
       "    <tr>\n",
       "      <th>2000-08-17 00:00:00-04:00</th>\n",
       "      <td>1</td>\n",
       "      <td>0</td>\n",
       "    </tr>\n",
       "    <tr>\n",
       "      <th>2000-08-18 00:00:00-04:00</th>\n",
       "      <td>0</td>\n",
       "      <td>1</td>\n",
       "    </tr>\n",
       "    <tr>\n",
       "      <th>2000-08-21 00:00:00-04:00</th>\n",
       "      <td>0</td>\n",
       "      <td>0</td>\n",
       "    </tr>\n",
       "    <tr>\n",
       "      <th>...</th>\n",
       "      <td>...</td>\n",
       "      <td>...</td>\n",
       "    </tr>\n",
       "    <tr>\n",
       "      <th>2023-07-07 00:00:00-04:00</th>\n",
       "      <td>0</td>\n",
       "      <td>0</td>\n",
       "    </tr>\n",
       "    <tr>\n",
       "      <th>2023-07-10 00:00:00-04:00</th>\n",
       "      <td>1</td>\n",
       "      <td>0</td>\n",
       "    </tr>\n",
       "    <tr>\n",
       "      <th>2023-07-11 00:00:00-04:00</th>\n",
       "      <td>1</td>\n",
       "      <td>0</td>\n",
       "    </tr>\n",
       "    <tr>\n",
       "      <th>2023-07-12 00:00:00-04:00</th>\n",
       "      <td>1</td>\n",
       "      <td>0</td>\n",
       "    </tr>\n",
       "    <tr>\n",
       "      <th>2023-07-13 00:00:00-04:00</th>\n",
       "      <td>0</td>\n",
       "      <td>1</td>\n",
       "    </tr>\n",
       "  </tbody>\n",
       "</table></div>"
      ],
      "text/plain": [
       "                           Target  Predictions\n",
       "Date                                          \n",
       "2000-08-15 00:00:00-04:00       1            0\n",
       "2000-08-16 00:00:00-04:00       0            0\n",
       "2000-08-17 00:00:00-04:00       1            0\n",
       "2000-08-18 00:00:00-04:00       0            1\n",
       "2000-08-21 00:00:00-04:00       0            0\n",
       "...                           ...          ...\n",
       "2023-07-07 00:00:00-04:00       0            0\n",
       "2023-07-10 00:00:00-04:00       1            0\n",
       "2023-07-11 00:00:00-04:00       1            0\n",
       "2023-07-12 00:00:00-04:00       1            0\n",
       "2023-07-13 00:00:00-04:00       0            1\n",
       "\n",
       "[5763 rows x 2 columns]"
      ]
     },
     "execution_count": 213,
     "metadata": {},
     "output_type": "execute_result"
    }
   ],
   "source": [
    "predictions = generate_predictions(stock_data, model, predictors)\n",
    "predictions"
   ]
  },
  {
   "cell_type": "markdown",
   "id": "d7d4cf82",
   "metadata": {},
   "source": [
    "### Comparison for difference in predicted vs actual outcome"
   ]
  },
  {
   "cell_type": "code",
   "execution_count": 214,
   "id": "1d531cc7",
   "metadata": {
    "scrolled": true
   },
   "outputs": [
    {
     "data": {
      "text/plain": [
       "(0    3268\n",
       " 1    2495\n",
       " Name: Predictions, dtype: int64,\n",
       " 1    2951\n",
       " 0    2812\n",
       " Name: Target, dtype: int64)"
      ]
     },
     "execution_count": 214,
     "metadata": {},
     "output_type": "execute_result"
    }
   ],
   "source": [
    "predictions[\"Predictions\"].value_counts(),predictions[\"Target\"].value_counts()"
   ]
  },
  {
   "cell_type": "markdown",
   "id": "0b1394e0",
   "metadata": {},
   "source": [
    "This shows bad performance.For more clarity, we can conduct precision scoring on this: "
   ]
  },
  {
   "cell_type": "code",
   "execution_count": 215,
   "id": "8b283a70",
   "metadata": {},
   "outputs": [
    {
     "data": {
      "text/plain": [
       "0.5130260521042084"
      ]
     },
     "execution_count": 215,
     "metadata": {},
     "output_type": "execute_result"
    }
   ],
   "source": [
    "precision_score(predictions[\"Target\"], predictions[\"Predictions\"])"
   ]
  },
  {
   "cell_type": "markdown",
   "id": "5663609b",
   "metadata": {},
   "source": [
    "## Conclusion"
   ]
  },
  {
   "cell_type": "markdown",
   "id": "f337e37e",
   "metadata": {},
   "source": [
    "The precision score is quite low. This goes onto show the our rfc model does not perform well in predicting next day's price just from historical data. To resolve this, we can: \n",
    "1. Scrape more relevant data that realistically affects the stock prices. (Eg: Stock news)\n",
    "2. Perform hyperparameter tuning"
   ]
  }
 ],
 "metadata": {
  "kernelspec": {
   "display_name": "Python 3 (ipykernel)",
   "language": "python",
   "name": "python3"
  },
  "language_info": {
   "codemirror_mode": {
    "name": "ipython",
    "version": 3
   },
   "file_extension": ".py",
   "mimetype": "text/x-python",
   "name": "python",
   "nbconvert_exporter": "python",
   "pygments_lexer": "ipython3",
   "version": "3.9.12"
  }
 },
 "nbformat": 4,
 "nbformat_minor": 5
}
